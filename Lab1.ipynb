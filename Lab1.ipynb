{
 "cells": [
  {
   "cell_type": "markdown",
   "metadata": {},
   "source": [
    "# Lab 1 - Pandas Intro"
   ]
  },
  {
   "cell_type": "code",
   "execution_count": 91,
   "metadata": {},
   "outputs": [],
   "source": [
    "import pandas as pd\n",
    "movies_df = pd.read_csv(\"movie.csv\")\n",
    "\n"
   ]
  },
  {
   "cell_type": "markdown",
   "metadata": {},
   "source": [
    "## Questions\n"
   ]
  },
  {
   "cell_type": "markdown",
   "metadata": {},
   "source": [
    "**0.** What is the average IMDB Score of all the movies?"
   ]
  },
  {
   "cell_type": "code",
   "execution_count": 168,
   "metadata": {},
   "outputs": [
    {
     "data": {
      "text/plain": [
       "6.4374288039056085"
      ]
     },
     "execution_count": 168,
     "metadata": {},
     "output_type": "execute_result"
    }
   ],
   "source": [
    "movies_df = pd.read_csv(\"movie.csv\")\n",
    "\n",
    "average =  movies_df.imdb_score.mean()\n",
    "average"
   ]
  },
  {
   "cell_type": "markdown",
   "metadata": {},
   "source": [
    "**1.** How many movies have \"Star Wars\" in the movie_title field?"
   ]
  },
  {
   "cell_type": "code",
   "execution_count": 167,
   "metadata": {},
   "outputs": [
    {
     "data": {
      "text/plain": [
       "8"
      ]
     },
     "execution_count": 167,
     "metadata": {},
     "output_type": "execute_result"
    }
   ],
   "source": [
    "movies_df = pd.read_csv(\"movie.csv\")\n",
    "\n",
    "star_movies = movies_df.movie_title[movies_df.movie_title.str.contains(pat = \"Star Wars\")]\n",
    "len(star_movies)"
   ]
  },
  {
   "cell_type": "markdown",
   "metadata": {},
   "source": [
    "**2.** Which movie has the highest IMDB Score? What is that score?"
   ]
  },
  {
   "cell_type": "code",
   "execution_count": 166,
   "metadata": {},
   "outputs": [
    {
     "name": "stdout",
     "output_type": "stream",
     "text": [
      "2725    Towering Inferno\n",
      "Name: movie_title, dtype: object\n",
      "2725    9.5\n",
      "Name: imdb_score, dtype: float64\n"
     ]
    }
   ],
   "source": [
    "movies_df = pd.read_csv(\"movie.csv\")\n",
    "\n",
    "highest_score = movies_df[movies_df.imdb_score == movies_df.imdb_score.max()]\n",
    "print(highest_score.movie_title)\n",
    "print(highest_score.imdb_score)"
   ]
  },
  {
   "cell_type": "markdown",
   "metadata": {},
   "source": [
    "**3**. Which movie has the lowest IMDB Score? What is that score?\n"
   ]
  },
  {
   "cell_type": "code",
   "execution_count": 165,
   "metadata": {},
   "outputs": [
    {
     "name": "stdout",
     "output_type": "stream",
     "text": [
      "2789    Justin Bieber: Never Say Never\n",
      "Name: movie_title, dtype: object\n",
      "2789    1.6\n",
      "Name: imdb_score, dtype: float64\n"
     ]
    }
   ],
   "source": [
    "movies_df = pd.read_csv(\"movie.csv\")\n",
    "\n",
    "lowest_score = movies_df[movies_df.imdb_score == movies_df.imdb_score.min()]\n",
    "print(lowest_score.movie_title)\n",
    "print(lowest_score.imdb_score)\n"
   ]
  },
  {
   "cell_type": "markdown",
   "metadata": {},
   "source": [
    "**4.** For each director, how many movies have they directed (from this dataset)?"
   ]
  },
  {
   "cell_type": "code",
   "execution_count": 164,
   "metadata": {},
   "outputs": [
    {
     "data": {
      "text/plain": [
       "director_name\n",
       "A. Raven Cruz         1\n",
       "Aaron Hann            1\n",
       "Aaron Schneider       1\n",
       "Aaron Seltzer         1\n",
       "Abel Ferrara          1\n",
       "                     ..\n",
       "Zoran Lisinac         1\n",
       "Álex de la Iglesia    1\n",
       "Émile Gaudreault      1\n",
       "Éric Tessier          1\n",
       "Étienne Faure         1\n",
       "Length: 2397, dtype: int64"
      ]
     },
     "execution_count": 164,
     "metadata": {},
     "output_type": "execute_result"
    }
   ],
   "source": [
    "movies_df = pd.read_csv(\"movie.csv\")\n",
    "\n",
    "df = pd.DataFrame(movies_df, columns= ['director_name'])\n",
    "\n",
    "duplicate_director = df.pivot_table(columns=['director_name'], aggfunc='size')\n",
    "duplicate_director"
   ]
  },
  {
   "cell_type": "markdown",
   "metadata": {},
   "source": [
    "**5.** What's the average duration of Action movies?"
   ]
  },
  {
   "cell_type": "code",
   "execution_count": 162,
   "metadata": {},
   "outputs": [
    {
     "data": {
      "text/plain": [
       "110.67657657657658"
      ]
     },
     "execution_count": 162,
     "metadata": {},
     "output_type": "execute_result"
    }
   ],
   "source": [
    "movies_df = pd.read_csv(\"movie.csv\")\n",
    "\n",
    "action_movies = movies_df[movies_df.genres.str.contains(pat = \"Action\")]\n",
    "action_movies.duration.mean()"
   ]
  },
  {
   "cell_type": "markdown",
   "metadata": {},
   "source": [
    "**6.** Which PG-13 movie had the biggest budget?"
   ]
  },
  {
   "cell_type": "code",
   "execution_count": 161,
   "metadata": {},
   "outputs": [
    {
     "data": {
      "text/html": [
       "<div>\n",
       "<style scoped>\n",
       "    .dataframe tbody tr th:only-of-type {\n",
       "        vertical-align: middle;\n",
       "    }\n",
       "\n",
       "    .dataframe tbody tr th {\n",
       "        vertical-align: top;\n",
       "    }\n",
       "\n",
       "    .dataframe thead th {\n",
       "        text-align: right;\n",
       "    }\n",
       "</style>\n",
       "<table border=\"1\" class=\"dataframe\">\n",
       "  <thead>\n",
       "    <tr style=\"text-align: right;\">\n",
       "      <th></th>\n",
       "      <th>movie_title</th>\n",
       "      <th>budget</th>\n",
       "    </tr>\n",
       "  </thead>\n",
       "  <tbody>\n",
       "    <tr>\n",
       "      <th>2294</th>\n",
       "      <td>Princess Mononoke</td>\n",
       "      <td>2.400000e+09</td>\n",
       "    </tr>\n",
       "    <tr>\n",
       "      <th>2305</th>\n",
       "      <td>Steamboy</td>\n",
       "      <td>2.127520e+09</td>\n",
       "    </tr>\n",
       "    <tr>\n",
       "      <th>3779</th>\n",
       "      <td>Tango</td>\n",
       "      <td>7.000000e+08</td>\n",
       "    </tr>\n",
       "    <tr>\n",
       "      <th>1</th>\n",
       "      <td>Pirates of the Caribbean: At World's End</td>\n",
       "      <td>3.000000e+08</td>\n",
       "    </tr>\n",
       "    <tr>\n",
       "      <th>5</th>\n",
       "      <td>John Carter</td>\n",
       "      <td>2.637000e+08</td>\n",
       "    </tr>\n",
       "    <tr>\n",
       "      <th>...</th>\n",
       "      <td>...</td>\n",
       "      <td>...</td>\n",
       "    </tr>\n",
       "    <tr>\n",
       "      <th>4679</th>\n",
       "      <td>Dogtown and Z-Boys</td>\n",
       "      <td>NaN</td>\n",
       "    </tr>\n",
       "    <tr>\n",
       "      <th>4754</th>\n",
       "      <td>Shotgun Stories</td>\n",
       "      <td>NaN</td>\n",
       "    </tr>\n",
       "    <tr>\n",
       "      <th>4814</th>\n",
       "      <td>Heroes of Dirt</td>\n",
       "      <td>NaN</td>\n",
       "    </tr>\n",
       "    <tr>\n",
       "      <th>4835</th>\n",
       "      <td>The Mighty</td>\n",
       "      <td>NaN</td>\n",
       "    </tr>\n",
       "    <tr>\n",
       "      <th>4914</th>\n",
       "      <td>Shanghai Calling</td>\n",
       "      <td>NaN</td>\n",
       "    </tr>\n",
       "  </tbody>\n",
       "</table>\n",
       "<p>1411 rows × 2 columns</p>\n",
       "</div>"
      ],
      "text/plain": [
       "                                   movie_title        budget\n",
       "2294                         Princess Mononoke  2.400000e+09\n",
       "2305                                  Steamboy  2.127520e+09\n",
       "3779                                     Tango  7.000000e+08\n",
       "1     Pirates of the Caribbean: At World's End  3.000000e+08\n",
       "5                                  John Carter  2.637000e+08\n",
       "...                                        ...           ...\n",
       "4679                        Dogtown and Z-Boys           NaN\n",
       "4754                           Shotgun Stories           NaN\n",
       "4814                            Heroes of Dirt           NaN\n",
       "4835                                The Mighty           NaN\n",
       "4914                          Shanghai Calling           NaN\n",
       "\n",
       "[1411 rows x 2 columns]"
      ]
     },
     "execution_count": 161,
     "metadata": {},
     "output_type": "execute_result"
    }
   ],
   "source": [
    "movies_df = pd.read_csv(\"movie.csv\")\n",
    "\n",
    "movies_df.drop(movies_df[movies_df.content_rating != \"PG-13\"].index, inplace = True)\n",
    "\n",
    "df = pd.DataFrame(movies_df, columns= ['movie_title', \"budget\"])\n",
    "df.sort_values(by=[\"budget\"], ascending=False)\n"
   ]
  },
  {
   "cell_type": "markdown",
   "metadata": {},
   "source": [
    "**7.** How many movies were made in each year (title_year)?"
   ]
  },
  {
   "cell_type": "code",
   "execution_count": 159,
   "metadata": {},
   "outputs": [
    {
     "name": "stdout",
     "output_type": "stream",
     "text": [
      "title_year\n",
      "1916.0      1\n",
      "1920.0      1\n",
      "1925.0      1\n",
      "1927.0      1\n",
      "1929.0      2\n",
      "         ... \n",
      "2012.0    214\n",
      "2013.0    231\n",
      "2014.0    243\n",
      "2015.0    211\n",
      "2016.0     98\n",
      "Length: 91, dtype: int64\n"
     ]
    }
   ],
   "source": [
    "movies_df = pd.read_csv(\"movie.csv\")\n",
    "\n",
    "df = pd.DataFrame(movies_df, columns= ['title_year'])\n",
    "\n",
    "duplicate_year = df.pivot_table(columns=['title_year'], aggfunc='size')\n",
    "print (duplicate_year)"
   ]
  },
  {
   "cell_type": "markdown",
   "metadata": {},
   "source": [
    "**8.** How many movies had more than 10000 movie_facebook_likes?"
   ]
  },
  {
   "cell_type": "code",
   "execution_count": 156,
   "metadata": {},
   "outputs": [
    {
     "data": {
      "text/plain": [
       "1098"
      ]
     },
     "execution_count": 156,
     "metadata": {},
     "output_type": "execute_result"
    }
   ],
   "source": [
    "movies_df = pd.read_csv(\"movie.csv\")\n",
    "\n",
    "likes = (movies_df.movie_facebook_likes >= 10000)\n",
    "\n",
    "len(movies_df[ likes ])"
   ]
  },
  {
   "cell_type": "markdown",
   "metadata": {},
   "source": [
    "\n",
    "**9.** How many movies have \"Tom Hanks\" (as actor1, actor2, or actor3)?"
   ]
  },
  {
   "cell_type": "code",
   "execution_count": 155,
   "metadata": {},
   "outputs": [
    {
     "data": {
      "text/plain": [
       "28"
      ]
     },
     "execution_count": 155,
     "metadata": {},
     "output_type": "execute_result"
    }
   ],
   "source": [
    "movies_df = pd.read_csv(\"movie.csv\")\n",
    "\n",
    "mask = (\n",
    "    (movies_df.actor_1_name == \"Tom Hanks\") | \n",
    "    (movies_df.actor_2_name ==\"Tom Hanks\") |\n",
    "    (movies_df.actor_3_name ==\"Tom Hanks\")\n",
    ")\n",
    "\n",
    "#mask = movies_df.actor_1_name.isin([\"Kevin Hart\", \"Dwayne Johnson\"])\n",
    "\n",
    "len(movies_df[ mask ])"
   ]
  },
  {
   "cell_type": "markdown",
   "metadata": {},
   "source": [
    "**10.**  What are the movies and number of voted users (num_voted_users) for movies that have less than 2 faces in the poster (facenumber_in_poster)?"
   ]
  },
  {
   "cell_type": "code",
   "execution_count": 154,
   "metadata": {},
   "outputs": [
    {
     "data": {
      "text/html": [
       "<div>\n",
       "<style scoped>\n",
       "    .dataframe tbody tr th:only-of-type {\n",
       "        vertical-align: middle;\n",
       "    }\n",
       "\n",
       "    .dataframe tbody tr th {\n",
       "        vertical-align: top;\n",
       "    }\n",
       "\n",
       "    .dataframe thead th {\n",
       "        text-align: right;\n",
       "    }\n",
       "</style>\n",
       "<table border=\"1\" class=\"dataframe\">\n",
       "  <thead>\n",
       "    <tr style=\"text-align: right;\">\n",
       "      <th></th>\n",
       "      <th>movie_title</th>\n",
       "      <th>num_voted_users</th>\n",
       "    </tr>\n",
       "  </thead>\n",
       "  <tbody>\n",
       "    <tr>\n",
       "      <th>0</th>\n",
       "      <td>Avatar</td>\n",
       "      <td>886204</td>\n",
       "    </tr>\n",
       "    <tr>\n",
       "      <th>1</th>\n",
       "      <td>Pirates of the Caribbean: At World's End</td>\n",
       "      <td>471220</td>\n",
       "    </tr>\n",
       "    <tr>\n",
       "      <th>2</th>\n",
       "      <td>Spectre</td>\n",
       "      <td>275868</td>\n",
       "    </tr>\n",
       "    <tr>\n",
       "      <th>3</th>\n",
       "      <td>The Dark Knight Rises</td>\n",
       "      <td>1144337</td>\n",
       "    </tr>\n",
       "    <tr>\n",
       "      <th>5</th>\n",
       "      <td>John Carter</td>\n",
       "      <td>212204</td>\n",
       "    </tr>\n",
       "    <tr>\n",
       "      <th>...</th>\n",
       "      <td>...</td>\n",
       "      <td>...</td>\n",
       "    </tr>\n",
       "    <tr>\n",
       "      <th>4908</th>\n",
       "      <td>El Mariachi</td>\n",
       "      <td>52055</td>\n",
       "    </tr>\n",
       "    <tr>\n",
       "      <th>4909</th>\n",
       "      <td>The Mongol King</td>\n",
       "      <td>36</td>\n",
       "    </tr>\n",
       "    <tr>\n",
       "      <th>4910</th>\n",
       "      <td>Newlyweds</td>\n",
       "      <td>1338</td>\n",
       "    </tr>\n",
       "    <tr>\n",
       "      <th>4913</th>\n",
       "      <td>A Plague So Pleasant</td>\n",
       "      <td>38</td>\n",
       "    </tr>\n",
       "    <tr>\n",
       "      <th>4915</th>\n",
       "      <td>My Date with Drew</td>\n",
       "      <td>4285</td>\n",
       "    </tr>\n",
       "  </tbody>\n",
       "</table>\n",
       "<p>3262 rows × 2 columns</p>\n",
       "</div>"
      ],
      "text/plain": [
       "                                   movie_title  num_voted_users\n",
       "0                                       Avatar           886204\n",
       "1     Pirates of the Caribbean: At World's End           471220\n",
       "2                                      Spectre           275868\n",
       "3                        The Dark Knight Rises          1144337\n",
       "5                                  John Carter           212204\n",
       "...                                        ...              ...\n",
       "4908                               El Mariachi            52055\n",
       "4909                           The Mongol King               36\n",
       "4910                                 Newlyweds             1338\n",
       "4913                      A Plague So Pleasant               38\n",
       "4915                         My Date with Drew             4285\n",
       "\n",
       "[3262 rows x 2 columns]"
      ]
     },
     "execution_count": 154,
     "metadata": {},
     "output_type": "execute_result"
    }
   ],
   "source": [
    "movies_df = pd.read_csv(\"movie.csv\")\n",
    "\n",
    "movies_df.drop(movies_df[movies_df.facenumber_in_poster >= 2].index, inplace = True)\n",
    "movies_df = movies_df[movies_df.title_year.notnull()]\n",
    "\n",
    "df = pd.DataFrame(movies_df, columns= [\"movie_title\", \"num_voted_users\"])\n",
    "\n",
    "df\n"
   ]
  },
  {
   "cell_type": "markdown",
   "metadata": {},
   "source": [
    "**11.** What are the directors and number of director facebook likes for movies made beteween 2000 and 2004 (inclusive) sorted in descending order of director facebook likes?"
   ]
  },
  {
   "cell_type": "code",
   "execution_count": 169,
   "metadata": {},
   "outputs": [
    {
     "data": {
      "text/html": [
       "<div>\n",
       "<style scoped>\n",
       "    .dataframe tbody tr th:only-of-type {\n",
       "        vertical-align: middle;\n",
       "    }\n",
       "\n",
       "    .dataframe tbody tr th {\n",
       "        vertical-align: top;\n",
       "    }\n",
       "\n",
       "    .dataframe thead th {\n",
       "        text-align: right;\n",
       "    }\n",
       "</style>\n",
       "<table border=\"1\" class=\"dataframe\">\n",
       "  <thead>\n",
       "    <tr style=\"text-align: right;\">\n",
       "      <th></th>\n",
       "      <th>director_name</th>\n",
       "      <th>director_facebook_likes</th>\n",
       "    </tr>\n",
       "  </thead>\n",
       "  <tbody>\n",
       "    <tr>\n",
       "      <th>1057</th>\n",
       "      <td>Christopher Nolan</td>\n",
       "      <td>22000.0</td>\n",
       "    </tr>\n",
       "    <tr>\n",
       "      <th>1034</th>\n",
       "      <td>David Fincher</td>\n",
       "      <td>21000.0</td>\n",
       "    </tr>\n",
       "    <tr>\n",
       "      <th>2849</th>\n",
       "      <td>Denzel Washington</td>\n",
       "      <td>18000.0</td>\n",
       "    </tr>\n",
       "    <tr>\n",
       "      <th>322</th>\n",
       "      <td>Martin Scorsese</td>\n",
       "      <td>17000.0</td>\n",
       "    </tr>\n",
       "    <tr>\n",
       "      <th>1587</th>\n",
       "      <td>Clint Eastwood</td>\n",
       "      <td>16000.0</td>\n",
       "    </tr>\n",
       "    <tr>\n",
       "      <th>...</th>\n",
       "      <td>...</td>\n",
       "      <td>...</td>\n",
       "    </tr>\n",
       "    <tr>\n",
       "      <th>3159</th>\n",
       "      <td>Guy Ritchie</td>\n",
       "      <td>0.0</td>\n",
       "    </tr>\n",
       "    <tr>\n",
       "      <th>3147</th>\n",
       "      <td>David Cronenberg</td>\n",
       "      <td>0.0</td>\n",
       "    </tr>\n",
       "    <tr>\n",
       "      <th>3002</th>\n",
       "      <td>Bill Paxton</td>\n",
       "      <td>0.0</td>\n",
       "    </tr>\n",
       "    <tr>\n",
       "      <th>883</th>\n",
       "      <td>Guillermo del Toro</td>\n",
       "      <td>0.0</td>\n",
       "    </tr>\n",
       "    <tr>\n",
       "      <th>2142</th>\n",
       "      <td>Richard Linklater</td>\n",
       "      <td>0.0</td>\n",
       "    </tr>\n",
       "  </tbody>\n",
       "</table>\n",
       "<p>556 rows × 2 columns</p>\n",
       "</div>"
      ],
      "text/plain": [
       "           director_name  director_facebook_likes\n",
       "1057   Christopher Nolan                  22000.0\n",
       "1034       David Fincher                  21000.0\n",
       "2849   Denzel Washington                  18000.0\n",
       "322      Martin Scorsese                  17000.0\n",
       "1587      Clint Eastwood                  16000.0\n",
       "...                  ...                      ...\n",
       "3159         Guy Ritchie                      0.0\n",
       "3147    David Cronenberg                      0.0\n",
       "3002         Bill Paxton                      0.0\n",
       "883   Guillermo del Toro                      0.0\n",
       "2142   Richard Linklater                      0.0\n",
       "\n",
       "[556 rows x 2 columns]"
      ]
     },
     "execution_count": 169,
     "metadata": {},
     "output_type": "execute_result"
    }
   ],
   "source": [
    "movies_df = pd.read_csv(\"movie.csv\")\n",
    "\n",
    "movies_df.drop(movies_df[movies_df.title_year >= 2004].index, inplace = True)\n",
    "movies_df.drop(movies_df[movies_df.title_year <= 2000].index, inplace = True)\n",
    "movies_df = movies_df[movies_df.title_year.notnull()]\n",
    "\n",
    "df = pd.DataFrame(movies_df, columns= ['director_name', \"director_facebook_likes\"])\n",
    "df.sort_values(by=[\"director_facebook_likes\"], ascending=False)\n"
   ]
  },
  {
   "cell_type": "markdown",
   "metadata": {},
   "source": [
    "12. What is the missing values (NaN)?"
   ]
  },
  {
   "cell_type": "code",
   "execution_count": null,
   "metadata": {},
   "outputs": [
    {
     "data": {
      "text/plain": [
       "0.0"
      ]
     },
     "execution_count": 47,
     "metadata": {},
     "output_type": "execute_result"
    }
   ],
   "source": [
    "movies_df.duration.isna().sum() / len(movies_df)\n",
    "movies_df.duration.fillna( movies_df.duration.median(), inplace=True )\n",
    "\n",
    "movies_df.loc[4].duration"
   ]
  }
 ],
 "metadata": {
  "kernelspec": {
   "display_name": "Python 3.9.12 ('base')",
   "language": "python",
   "name": "python3"
  },
  "language_info": {
   "codemirror_mode": {
    "name": "ipython",
    "version": 3
   },
   "file_extension": ".py",
   "mimetype": "text/x-python",
   "name": "python",
   "nbconvert_exporter": "python",
   "pygments_lexer": "ipython3",
   "version": "3.9.12"
  },
  "orig_nbformat": 4,
  "vscode": {
   "interpreter": {
    "hash": "b3b8246b3ad354a5f213208ce6023f082c1e8fc173d2c9adba35c304177e7570"
   }
  }
 },
 "nbformat": 4,
 "nbformat_minor": 2
}
